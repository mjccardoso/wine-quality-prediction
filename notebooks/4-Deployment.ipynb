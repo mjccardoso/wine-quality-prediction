{
 "cells": [
  {
   "cell_type": "markdown",
   "metadata": {},
   "source": [
    "## **Project:** Wine Quality - <span style=\"color:darkcyan\">Deployment</span> <br> Mauro Cardoso\n",
    "\n",
    "#### BUSINESS UNDERSTANDING / **PROJECT OBJECTIVE** »\n",
    "- The aim of this analysis is to predict the quality of new wines without resorting to expert assessment. To this end, 6497 wines are registered, data from their respective chemical analyses, and the evaluation of experts. Using two datasets consisting on physicochemical data from red and white Vinho Verde wine samples, from the north of Portugal, and a quality classification, our client wants to build an application to automatically classify new samples of Vinho Verde.\n",
    "\n",
    "The Wine Quality dataset contains information about various physicochemical properties of wines.\n",
    "This dataset only has numeric variables:\n",
    "    \n",
    "| FEATURES | DESCRIPTION | VARIABLE TYPE\n",
    "|:-------|:-------|:-------|\n",
    "**fixed acidity:**| Influences the flavor of the wine. A significant reduction in acids can lead to wines that taste flat. Examples of fixed acids are tartaric, malic, citric, and succinic, which can be found in grapes (except succinic). It is measured in g/dm3.|Continuous numerical|\n",
    "**volatile acidity:**| These acids must be distilled out from the wine before the end of the production process. Excess of volatile acids are undesirable and lead to unpleasant flavor. It is measured in g/dm3.|Continuous numerical|\n",
    "**citric acid:**| The amount of citric acid in the wine, which most of it is usually consumed during the fermentation process. It acts as a preservative and small quantities can add freshness and flavor. It is measured in g/dm3.|Continuous numerical|\n",
    "**residual sugar:**| The amount of sugar remaining after the end of the fermentation. The goal is to have a perfect balance between sweetness and sourness. Wines with more than 45g/dm3 are considered sweet. It is measured in g/dm3.|Continuous numerical|\n",
    "**chlorides:**| The amount of salt in the wine.|Continuous numerical|\n",
    "**free sulfur dioxide:**| The amount of sulfur dioxide (SO2) in free form. They are also known as sulfites and too much of it is undesirable and gives a pungent odour. It is measured in g/dm3.|Continuous numerical|\n",
    "**total sulfur dioxide:**| The total amount of SO2 in the wine. This is added to kill harmful bacteria and preserve quality and freshness. It is measured in mg/dm3.|Continuous numerical|\n",
    "**density:**| It is used as a measure of the conversion of sugar to alcohol. Sweeter wines have higher density.|Continuous numerical|\n",
    "**pH:**| Describes how acidic or basic a wine is on a scale from 0 (very acidic) to 14 (very basic).|Continuous numerical|\n",
    "**sulphates:**| The amount of mineral salts containing sulfur in the wine. It is an additive which can contribute to sulfur dioxide gas (S02) levels and acts as an antimicrobial and antioxidant. They are related to the fermentation process and affect the aroma and flavor of the wine.|Continuous numerical|\n",
    "**alcohol:**| Alcohol is formed as a result of yeast converting sugar during the fermentation process. It's usually measured in % volume or alcohol by volume (ABV).|Continuous numerical|\n",
    "**quality:**| A quality label in the range of 0 (very bad) to 10 (very excellent). It is the median of at least three evaluations made by wine experts.|Discrete numerical|"
   ]
  },
  {
   "cell_type": "markdown",
   "metadata": {},
   "source": [
    "### Installs section:"
   ]
  },
  {
   "cell_type": "code",
   "execution_count": 4,
   "metadata": {},
   "outputs": [
    {
     "name": "stdout",
     "output_type": "stream",
     "text": [
      "Requirement already satisfied: pyinstaller in /Users/mauurao/anaconda3/lib/python3.11/site-packages (6.10.0)\n",
      "Requirement already satisfied: setuptools>=42.0.0 in /Users/mauurao/anaconda3/lib/python3.11/site-packages (from pyinstaller) (68.0.0)\n",
      "Requirement already satisfied: altgraph in /Users/mauurao/anaconda3/lib/python3.11/site-packages (from pyinstaller) (0.17.4)\n",
      "Requirement already satisfied: pyinstaller-hooks-contrib>=2024.8 in /Users/mauurao/anaconda3/lib/python3.11/site-packages (from pyinstaller) (2024.8)\n",
      "Requirement already satisfied: packaging>=22.0 in /Users/mauurao/anaconda3/lib/python3.11/site-packages (from pyinstaller) (23.1)\n",
      "Requirement already satisfied: macholib>=1.8 in /Users/mauurao/anaconda3/lib/python3.11/site-packages (from pyinstaller) (1.16.3)\n",
      "Requirement already satisfied: tk in /Users/mauurao/anaconda3/lib/python3.11/site-packages (0.1.0)\n",
      "Requirement already satisfied: joblib in /Users/mauurao/anaconda3/lib/python3.11/site-packages (1.2.0)\n"
     ]
    }
   ],
   "source": [
    "!pip3 install pyinstaller\n",
    "!pip3 install tk \n",
    "!pip3 install joblib"
   ]
  },
  {
   "cell_type": "markdown",
   "metadata": {},
   "source": [
    "### Imports section:"
   ]
  },
  {
   "cell_type": "code",
   "execution_count": 5,
   "metadata": {},
   "outputs": [],
   "source": [
    "import pickle\n",
    "from pathlib import Path\n",
    "import tkinter as tk"
   ]
  },
  {
   "cell_type": "markdown",
   "metadata": {},
   "source": [
    "### Model Deployment"
   ]
  },
  {
   "cell_type": "code",
   "execution_count": 6,
   "metadata": {},
   "outputs": [],
   "source": [
    "root_marker = 'README.md'\n",
    "current_dir = Path.cwd()\n",
    "\n",
    "while not (current_dir / root_marker).exists() and current_dir != current_dir.parent:\n",
    "    current_dir = current_dir.parent\n",
    "\n",
    "path_to_go = current_dir / 'app'\n",
    "path_where_is = current_dir / 'models'\n",
    "filename = 'decision_tree_model_Original Without Change.pkl'\n",
    "\n",
    "with open(path_where_is / filename, 'rb') as model_file:\n",
    "    model = pickle.load(model_file)\n",
    "\n",
    "def make_prediction():\n",
    "    input_data = {\n",
    "        'fixed_acidity': float(fixed_acidity_entry.get()),\n",
    "        'volatile_acidity': float(volatile_acidity_entry.get()),\n",
    "        'citric_acid': float(citric_acid_entry.get()),\n",
    "        'residual_sugar': float(residual_sugar_entry.get()),\n",
    "        'chlorides': float(chlorides_entry.get()),\n",
    "        'free_sulfur_dioxide': float(free_sulfur_dioxide_entry.get()),\n",
    "        'total_sulfur_dioxide': float(total_sulfur_dioxide_entry.get()),\n",
    "        'density': float(density_entry.get()),\n",
    "        'pH': float(pH_entry.get()),\n",
    "        'sulphates': float(sulphates_entry.get()),\n",
    "        'alcohol': float(alcohol_entry.get()),\n",
    "        'type_r2': float(type_r2_entry.get())\n",
    "    }\n",
    "\n",
    "    input_values = [list(input_data.values())]\n",
    "    \n",
    "    prediction = model.predict(input_values)\n",
    "\n",
    "    prediction_label.config(text=f'Predicted Quality: {prediction[0]}')\n",
    "\n",
    "def close_app():\n",
    "    root.quit()\n",
    "\n",
    "# GUI \n",
    "root = tk.Tk(screenName='Wine Predictor of Vinho Verde ®')\n",
    "\n",
    "tk.Label(root, text='Fixed Acidity').pack()\n",
    "fixed_acidity_entry = tk.Entry(root)\n",
    "fixed_acidity_entry.pack()\n",
    "\n",
    "tk.Label(root, text='Volatile Acidity').pack()\n",
    "volatile_acidity_entry = tk.Entry(root)\n",
    "volatile_acidity_entry.pack()\n",
    "\n",
    "tk.Label(root, text='Citric Acidity').pack()\n",
    "citric_acid_entry = tk.Entry(root)\n",
    "citric_acid_entry.pack()\n",
    "\n",
    "tk.Label(root, text='Residual Sugar').pack()\n",
    "residual_sugar_entry = tk.Entry(root)\n",
    "residual_sugar_entry.pack()\n",
    "\n",
    "tk.Label(root, text='Chlorides').pack()\n",
    "chlorides_entry = tk.Entry(root)\n",
    "chlorides_entry.pack()\n",
    "\n",
    "tk.Label(root, text='Free Sulfur Dioxide').pack()\n",
    "free_sulfur_dioxide_entry = tk.Entry(root)\n",
    "free_sulfur_dioxide_entry.pack()\n",
    "\n",
    "tk.Label(root, text='Total Sulfur Dioxide').pack()\n",
    "total_sulfur_dioxide_entry = tk.Entry(root)\n",
    "total_sulfur_dioxide_entry.pack()\n",
    "\n",
    "tk.Label(root, text='Density').pack()\n",
    "density_entry = tk.Entry(root)\n",
    "density_entry.pack()\n",
    "\n",
    "tk.Label(root, text='PH').pack()\n",
    "pH_entry = tk.Entry(root)\n",
    "pH_entry.pack()\n",
    "\n",
    "tk.Label(root, text='Sulphates').pack()\n",
    "sulphates_entry = tk.Entry(root)\n",
    "sulphates_entry.pack()\n",
    "\n",
    "tk.Label(root, text='Alcohol').pack()\n",
    "alcohol_entry = tk.Entry(root)\n",
    "alcohol_entry.pack()\n",
    "\n",
    "tk.Label(root, text='Type: 0(White), 1(Red)').pack()\n",
    "type_r2_entry = tk.Entry(root)\n",
    "type_r2_entry.pack()\n",
    "\n",
    "\n",
    "predict_button = tk.Button(root, text='Predict', command=make_prediction)\n",
    "predict_button.pack()\n",
    "\n",
    "prediction_label = tk.Label(root, text='Predicted Quality:')\n",
    "prediction_label.pack()\n",
    "\n",
    "close_button = tk.Button(root, text='Close', command=close_app)\n",
    "close_button.pack()\n",
    "\n",
    "root.mainloop()\n"
   ]
  },
  {
   "cell_type": "markdown",
   "metadata": {},
   "source": [
    "Deploy of the app (Inside the env): <br>\n",
    "!python3 app/app.py"
   ]
  }
 ],
 "metadata": {
  "kernelspec": {
   "display_name": "base",
   "language": "python",
   "name": "python3"
  },
  "language_info": {
   "codemirror_mode": {
    "name": "ipython",
    "version": 3
   },
   "file_extension": ".py",
   "mimetype": "text/x-python",
   "name": "python",
   "nbconvert_exporter": "python",
   "pygments_lexer": "ipython3",
   "version": "3.11.7"
  }
 },
 "nbformat": 4,
 "nbformat_minor": 2
}
